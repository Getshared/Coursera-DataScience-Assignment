{
 "cells": [
  {
   "cell_type": "markdown",
   "id": "d0001fc5",
   "metadata": {},
   "source": [
    "# Data Science Tools and Ecosystem"
   ]
  },
  {
   "cell_type": "markdown",
   "id": "5fe198fc",
   "metadata": {},
   "source": [
    "In this notebook, Data Science Tools and Ecosystem are summarized."
   ]
  },
  {
   "cell_type": "markdown",
   "id": "ca0b9e50",
   "metadata": {},
   "source": [
    "### Objectives:\n",
    "- Familiarize with Python environment (Using Markdown, Headings, Arithmitic expressions, etc.)\n",
    "- Popular languages for data science\n",
    "- Common Libraries for data science\n",
    "- Sharing results\n"
   ]
  },
  {
   "cell_type": "markdown",
   "id": "3003fac5",
   "metadata": {},
   "source": [
    "Some of the popular languages that Data Scientists use are:\n",
    "- Python \n",
    "- Julia\n",
    "- JavaScript\n",
    "- SQL"
   ]
  },
  {
   "cell_type": "markdown",
   "id": "d7a29f32",
   "metadata": {},
   "source": [
    "Some of the commonly used libraries used by Data Scientists include:\n",
    "1. Panda \n",
    "2. Matplotlib\n",
    "3. SciPy\n",
    "4. TensorFlow\n",
    "5. Numpy"
   ]
  },
  {
   "cell_type": "markdown",
   "id": "96873ae3",
   "metadata": {},
   "source": [
    "|Data Science Tools |\n",
    "-------------------\n",
    "| RStudio |\n",
    "| Jupiter Notebooks | \n",
    "| Apache Spark | \n"
   ]
  },
  {
   "cell_type": "markdown",
   "id": "e5bf7f60",
   "metadata": {},
   "source": [
    "### Below are a few examples of evaluating arithmetic expressions in Python"
   ]
  },
  {
   "cell_type": "code",
   "execution_count": 5,
   "id": "71b42244",
   "metadata": {},
   "outputs": [
    {
     "data": {
      "text/plain": [
       "17"
      ]
     },
     "execution_count": 5,
     "metadata": {},
     "output_type": "execute_result"
    }
   ],
   "source": [
    "# This a simple arithmetic expression to mutiply then add integer\n",
    "(3*4)+5\n"
   ]
  },
  {
   "cell_type": "code",
   "execution_count": 6,
   "id": "4ac1435b",
   "metadata": {},
   "outputs": [
    {
     "data": {
      "text/plain": [
       "3.3333333333333335"
      ]
     },
     "execution_count": 6,
     "metadata": {},
     "output_type": "execute_result"
    }
   ],
   "source": [
    "# This will convert 200 minutes to hours by diving by 60\n",
    "200/60"
   ]
  },
  {
   "cell_type": "markdown",
   "id": "64efbfa2",
   "metadata": {},
   "source": [
    "## Author\n",
    "Abdellatif BAKKALI"
   ]
  },
  {
   "cell_type": "code",
   "execution_count": null,
   "id": "a6dd8ac3",
   "metadata": {},
   "outputs": [],
   "source": []
  }
 ],
 "metadata": {
  "kernelspec": {
   "display_name": "Python 3 (ipykernel)",
   "language": "python",
   "name": "python3"
  },
  "language_info": {
   "codemirror_mode": {
    "name": "ipython",
    "version": 3
   },
   "file_extension": ".py",
   "mimetype": "text/x-python",
   "name": "python",
   "nbconvert_exporter": "python",
   "pygments_lexer": "ipython3",
   "version": "3.10.9"
  }
 },
 "nbformat": 4,
 "nbformat_minor": 5
}
